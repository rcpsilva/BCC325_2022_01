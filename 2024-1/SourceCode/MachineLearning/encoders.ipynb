{
 "cells": [
  {
   "cell_type": "code",
   "execution_count": 13,
   "metadata": {},
   "outputs": [],
   "source": [
    "import numpy as np \n",
    "import pandas as pd\n",
    "import matplotlib.pyplot as plt\n",
    "import seaborn as sns"
   ]
  },
  {
   "cell_type": "code",
   "execution_count": 14,
   "metadata": {},
   "outputs": [],
   "source": [
    "df = pd.read_csv('student-mat.csv',sep=';')"
   ]
  },
  {
   "cell_type": "code",
   "execution_count": 15,
   "metadata": {},
   "outputs": [],
   "source": [
    "X = df.drop(['G1','G2','G3'],axis='columns')\n",
    "y = df['G3']"
   ]
  },
  {
   "cell_type": "code",
   "execution_count": 16,
   "metadata": {},
   "outputs": [],
   "source": [
    "X = X[['sex','famsize','Medu','Fedu','Mjob','Fjob']]"
   ]
  },
  {
   "cell_type": "code",
   "execution_count": 7,
   "metadata": {},
   "outputs": [],
   "source": [
    "from sklearn.preprocessing import OneHotEncoder"
   ]
  },
  {
   "cell_type": "code",
   "execution_count": 17,
   "metadata": {},
   "outputs": [],
   "source": [
    "enc = OneHotEncoder()"
   ]
  },
  {
   "cell_type": "code",
   "execution_count": 18,
   "metadata": {},
   "outputs": [],
   "source": [
    "X = enc.fit_transform(X)"
   ]
  },
  {
   "cell_type": "code",
   "execution_count": 20,
   "metadata": {},
   "outputs": [
    {
     "name": "stdout",
     "output_type": "stream",
     "text": [
      "  (0, 0)\t1.0\n",
      "  (0, 2)\t1.0\n",
      "  (0, 8)\t1.0\n",
      "  (0, 13)\t1.0\n",
      "  (0, 14)\t1.0\n",
      "  (0, 23)\t1.0\n",
      "  (1, 0)\t1.0\n",
      "  (1, 2)\t1.0\n",
      "  (1, 5)\t1.0\n",
      "  (1, 10)\t1.0\n",
      "  (1, 14)\t1.0\n",
      "  (1, 21)\t1.0\n",
      "  (2, 0)\t1.0\n",
      "  (2, 3)\t1.0\n",
      "  (2, 5)\t1.0\n",
      "  (2, 10)\t1.0\n",
      "  (2, 14)\t1.0\n",
      "  (2, 21)\t1.0\n",
      "  (3, 0)\t1.0\n",
      "  (3, 2)\t1.0\n",
      "  (3, 8)\t1.0\n",
      "  (3, 11)\t1.0\n",
      "  (3, 15)\t1.0\n",
      "  (3, 22)\t1.0\n",
      "  (4, 0)\t1.0\n",
      "  :\t:\n",
      "  (390, 22)\t1.0\n",
      "  (391, 1)\t1.0\n",
      "  (391, 3)\t1.0\n",
      "  (391, 7)\t1.0\n",
      "  (391, 10)\t1.0\n",
      "  (391, 17)\t1.0\n",
      "  (391, 22)\t1.0\n",
      "  (392, 1)\t1.0\n",
      "  (392, 2)\t1.0\n",
      "  (392, 5)\t1.0\n",
      "  (392, 10)\t1.0\n",
      "  (392, 16)\t1.0\n",
      "  (392, 21)\t1.0\n",
      "  (393, 1)\t1.0\n",
      "  (393, 3)\t1.0\n",
      "  (393, 7)\t1.0\n",
      "  (393, 11)\t1.0\n",
      "  (393, 17)\t1.0\n",
      "  (393, 21)\t1.0\n",
      "  (394, 1)\t1.0\n",
      "  (394, 3)\t1.0\n",
      "  (394, 5)\t1.0\n",
      "  (394, 10)\t1.0\n",
      "  (394, 16)\t1.0\n",
      "  (394, 19)\t1.0\n"
     ]
    }
   ],
   "source": [
    "print(X)"
   ]
  },
  {
   "cell_type": "code",
   "execution_count": 21,
   "metadata": {},
   "outputs": [],
   "source": [
    "from sklearn.model_selection import train_test_split \n",
    "X_train, X_test, y_train, y_test = train_test_split(X, y, test_size=0.20)"
   ]
  },
  {
   "cell_type": "code",
   "execution_count": 22,
   "metadata": {},
   "outputs": [],
   "source": [
    "from sklearn.linear_model import LinearRegression\n",
    "lin = LinearRegression().fit(X_train,y_train)"
   ]
  },
  {
   "cell_type": "code",
   "execution_count": 33,
   "metadata": {},
   "outputs": [],
   "source": [
    "from sklearn.tree import DecisionTreeRegressor\n",
    "dt = DecisionTreeRegressor(max_depth=5).fit(X_train,y_train)"
   ]
  },
  {
   "cell_type": "code",
   "execution_count": 34,
   "metadata": {},
   "outputs": [],
   "source": [
    "#from sklearn import tree\n",
    "#tree.plot_tree(dt)"
   ]
  },
  {
   "cell_type": "code",
   "execution_count": 35,
   "metadata": {},
   "outputs": [],
   "source": [
    "from sklearn import metrics"
   ]
  },
  {
   "cell_type": "code",
   "execution_count": 36,
   "metadata": {},
   "outputs": [
    {
     "name": "stdout",
     "output_type": "stream",
     "text": [
      "MAE :   3.452580621168709\n",
      "MSE :   19.425150826547853\n",
      "RMAE :   4.4073972848550715\n"
     ]
    }
   ],
   "source": [
    "pred = dt.predict(X_test)\n",
    "print('MAE :',\" \", metrics.mean_absolute_error(y_test,pred))\n",
    "print('MSE :',\" \", metrics.mean_squared_error(y_test,pred))\n",
    "print('RMAE :',\" \", np.sqrt(metrics.mean_squared_error(y_test,pred)))"
   ]
  },
  {
   "cell_type": "code",
   "execution_count": 37,
   "metadata": {},
   "outputs": [
    {
     "name": "stdout",
     "output_type": "stream",
     "text": [
      "MAE :   3.563285476018618\n",
      "MSE :   19.563400575964973\n",
      "RMAE :   4.4230533091932065\n"
     ]
    }
   ],
   "source": [
    "pred = lin.predict(X_test)\n",
    "print('MAE :',\" \", metrics.mean_absolute_error(y_test,pred))\n",
    "print('MSE :',\" \", metrics.mean_squared_error(y_test,pred))\n",
    "print('RMAE :',\" \", np.sqrt(metrics.mean_squared_error(y_test,pred)))"
   ]
  },
  {
   "cell_type": "code",
   "execution_count": null,
   "metadata": {},
   "outputs": [],
   "source": []
  }
 ],
 "metadata": {
  "kernelspec": {
   "display_name": "Python 3",
   "language": "python",
   "name": "python3"
  },
  "language_info": {
   "codemirror_mode": {
    "name": "ipython",
    "version": 3
   },
   "file_extension": ".py",
   "mimetype": "text/x-python",
   "name": "python",
   "nbconvert_exporter": "python",
   "pygments_lexer": "ipython3",
   "version": "3.10.11"
  }
 },
 "nbformat": 4,
 "nbformat_minor": 2
}
